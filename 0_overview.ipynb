{
 "cells": [
  {
   "attachments": {},
   "cell_type": "markdown",
   "metadata": {},
   "source": [
    "# Diametrics Overview"
   ]
  },
  {
   "attachments": {},
   "cell_type": "markdown",
   "metadata": {},
   "source": [
    "[Diametrics](https://diametrics.org) is a Python package and web application designed for the analysis of Continuous Glucose Monitoring (CGM) data. \n",
    "\n",
    "The WebApp can be found at https://diametrics.org and the code for package at https://github.com/cafoala/diametrics\n",
    "\n",
    "The application provides functionalities for data overview and editing, allowing users to verify and adjust the analyzed period. Users can customize analysis options, including filling data gaps, defining day/night-time settings, and setting time in range thresholds. \n",
    "\n",
    "Diametrics calculates standard metrics based on ADA recommendations, presenting them in a sortable and filterable table. \n",
    "\n",
    "Visualizations, powered by Plotly, facilitate the exploration of metric results and distributions. The application also offers advanced analysis capabilities, enabling users to focus on specific periods of interest and explore associated metrics. \n",
    "\n",
    "Overall, Diametrics provides an accessible and comprehensive tool for assessing glycemic control using CGM data. "
   ]
  }
 ],
 "metadata": {
  "kernelspec": {
   "display_name": "package_play",
   "language": "python",
   "name": "python3"
  },
  "language_info": {
   "codemirror_mode": {
    "name": "ipython",
    "version": 3
   },
   "file_extension": ".py",
   "mimetype": "text/x-python",
   "name": "python",
   "nbconvert_exporter": "python",
   "pygments_lexer": "ipython3",
   "version": "3.9.16"
  },
  "orig_nbformat": 4,
  "vscode": {
   "interpreter": {
    "hash": "c10053011fb043c31a3c6bdb0be69e4ab8cd05542c0cbe3000462b39ae896f3b"
   }
  }
 },
 "nbformat": 4,
 "nbformat_minor": 2
}
