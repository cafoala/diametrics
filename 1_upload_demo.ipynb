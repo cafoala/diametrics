{
 "cells": [
  {
   "attachments": {},
   "cell_type": "markdown",
   "metadata": {},
   "source": [
    "# 1. Uploading and transforming data"
   ]
  },
  {
   "attachments": {},
   "cell_type": "markdown",
   "metadata": {},
   "source": [
    "This section shows you how to upload your data and transform it into a format that can be used by the methods in the Diametrics package"
   ]
  },
  {
   "cell_type": "code",
   "execution_count": 1,
   "metadata": {},
   "outputs": [],
   "source": [
    "from src.diametrics import transform"
   ]
  },
  {
   "attachments": {},
   "cell_type": "markdown",
   "metadata": {},
   "source": [
    "## 1.1. By directory\n",
    "The most common use case is transforming a directory of CGM files into one dataframe"
   ]
  },
  {
   "cell_type": "code",
   "execution_count": 5,
   "metadata": {},
   "outputs": [
    {
     "name": "stdout",
     "output_type": "stream",
     "text": [
      "Help on function transform_directory in module src.diametrics.transform:\n",
      "\n",
      "transform_directory(directory, device)\n",
      "    Transform multiple files in a directory to a standardized format.\n",
      "    \n",
      "    Args:\n",
      "        directory (str): The path to the directory containing the files.\n",
      "        device (str): The device type ('libre', 'dexcom', 'medtronic').\n",
      "    \n",
      "    Returns:\n",
      "        pandas.DataFrame: The combined DataFrame in the standardized format.\n",
      "\n"
     ]
    }
   ],
   "source": [
    "help(transform.transform_directory)"
   ]
  },
  {
   "cell_type": "code",
   "execution_count": 2,
   "metadata": {},
   "outputs": [
    {
     "data": {
      "text/html": [
       "<div>\n",
       "<style scoped>\n",
       "    .dataframe tbody tr th:only-of-type {\n",
       "        vertical-align: middle;\n",
       "    }\n",
       "\n",
       "    .dataframe tbody tr th {\n",
       "        vertical-align: top;\n",
       "    }\n",
       "\n",
       "    .dataframe thead th {\n",
       "        text-align: right;\n",
       "    }\n",
       "</style>\n",
       "<table border=\"1\" class=\"dataframe\">\n",
       "  <thead>\n",
       "    <tr style=\"text-align: right;\">\n",
       "      <th></th>\n",
       "      <th>time</th>\n",
       "      <th>glc</th>\n",
       "      <th>ID</th>\n",
       "    </tr>\n",
       "  </thead>\n",
       "  <tbody>\n",
       "    <tr>\n",
       "      <th>0</th>\n",
       "      <td>2023-03-08 00:04:00</td>\n",
       "      <td>6.4</td>\n",
       "      <td>dexcom_eur_01</td>\n",
       "    </tr>\n",
       "    <tr>\n",
       "      <th>1</th>\n",
       "      <td>2023-03-08 00:09:00</td>\n",
       "      <td>6.5</td>\n",
       "      <td>dexcom_eur_01</td>\n",
       "    </tr>\n",
       "    <tr>\n",
       "      <th>2</th>\n",
       "      <td>2023-03-08 00:13:59</td>\n",
       "      <td>6.1</td>\n",
       "      <td>dexcom_eur_01</td>\n",
       "    </tr>\n",
       "    <tr>\n",
       "      <th>3</th>\n",
       "      <td>2023-03-08 00:18:59</td>\n",
       "      <td>6.5</td>\n",
       "      <td>dexcom_eur_01</td>\n",
       "    </tr>\n",
       "    <tr>\n",
       "      <th>4</th>\n",
       "      <td>2023-03-08 00:23:59</td>\n",
       "      <td>6.3</td>\n",
       "      <td>dexcom_eur_01</td>\n",
       "    </tr>\n",
       "  </tbody>\n",
       "</table>\n",
       "</div>"
      ],
      "text/plain": [
       "                 time  glc             ID\n",
       "0 2023-03-08 00:04:00  6.4  dexcom_eur_01\n",
       "1 2023-03-08 00:09:00  6.5  dexcom_eur_01\n",
       "2 2023-03-08 00:13:59  6.1  dexcom_eur_01\n",
       "3 2023-03-08 00:18:59  6.5  dexcom_eur_01\n",
       "4 2023-03-08 00:23:59  6.3  dexcom_eur_01"
      ]
     },
     "execution_count": 2,
     "metadata": {},
     "output_type": "execute_result"
    }
   ],
   "source": [
    "dexcom_data = transform.transform_directory(directory='tests/test_data/dexcom/', device='dexcom')\n",
    "dexcom_data.head()"
   ]
  },
  {
   "attachments": {},
   "cell_type": "markdown",
   "metadata": {},
   "source": [
    "## 1.2. Individual files\n",
    "It's also possible to transform files individually by first using the open_file function, followed by the convert_ function."
   ]
  },
  {
   "attachments": {},
   "cell_type": "markdown",
   "metadata": {},
   "source": [
    "### Open file"
   ]
  },
  {
   "cell_type": "code",
   "execution_count": 7,
   "metadata": {},
   "outputs": [
    {
     "name": "stdout",
     "output_type": "stream",
     "text": [
      "Help on function open_file in module src.diametrics.transform:\n",
      "\n",
      "open_file(filepath)\n",
      "    Open a file and read its contents into a pandas DataFrame.\n",
      "    \n",
      "    Args:\n",
      "        filepath (str): The path to the file.\n",
      "    \n",
      "    Returns:\n",
      "        pandas.DataFrame: The DataFrame containing the file data.\n",
      "    \n",
      "    Raises:\n",
      "        Exception: If an error occurs while reading the file.\n",
      "\n"
     ]
    }
   ],
   "source": [
    "help(transform.open_file)"
   ]
  },
  {
   "cell_type": "code",
   "execution_count": 8,
   "metadata": {},
   "outputs": [],
   "source": [
    "# Libre\n",
    "libre1 = transform.open_file('tests/test_data/libre/libre_amer_01.csv')\n",
    "# Dexcom\n",
    "dxcm2 = transform.open_file('tests/test_data/dexcom/dexcom_eur_02.xlsx')\n"
   ]
  },
  {
   "attachments": {},
   "cell_type": "markdown",
   "metadata": {},
   "source": [
    "### Transform file"
   ]
  },
  {
   "attachments": {},
   "cell_type": "markdown",
   "metadata": {},
   "source": [
    "#### Libre"
   ]
  },
  {
   "cell_type": "code",
   "execution_count": 9,
   "metadata": {},
   "outputs": [
    {
     "name": "stdout",
     "output_type": "stream",
     "text": [
      "Help on function convert_libre in module src.diametrics.transform:\n",
      "\n",
      "convert_libre(df)\n",
      "    Convert a DataFrame from a Libre device format to a standardized format.\n",
      "    \n",
      "    Args:\n",
      "        df (pandas.DataFrame): The DataFrame containing the Libre device data.\n",
      "    \n",
      "    Returns:\n",
      "        pandas.DataFrame: The DataFrame in the standardized format.\n",
      "\n"
     ]
    }
   ],
   "source": [
    "help(transform.convert_libre)"
   ]
  },
  {
   "cell_type": "code",
   "execution_count": 6,
   "metadata": {},
   "outputs": [
    {
     "name": "stderr",
     "output_type": "stream",
     "text": [
      "/home/cat/Desktop/projects/diametrics/src/diametrics/transform.py:62: UserWarning: Could not infer format, so each element will be parsed individually, falling back to `dateutil`. To ensure parsing is consistent and as-expected, please specify a format.\n",
      "  df['time'] = pd.to_datetime(df['time'])\n"
     ]
    },
    {
     "data": {
      "text/html": [
       "<div>\n",
       "<style scoped>\n",
       "    .dataframe tbody tr th:only-of-type {\n",
       "        vertical-align: middle;\n",
       "    }\n",
       "\n",
       "    .dataframe tbody tr th {\n",
       "        vertical-align: top;\n",
       "    }\n",
       "\n",
       "    .dataframe thead th {\n",
       "        text-align: right;\n",
       "    }\n",
       "</style>\n",
       "<table border=\"1\" class=\"dataframe\">\n",
       "  <thead>\n",
       "    <tr style=\"text-align: right;\">\n",
       "      <th></th>\n",
       "      <th>time</th>\n",
       "      <th>glc</th>\n",
       "      <th>scan_glc</th>\n",
       "    </tr>\n",
       "  </thead>\n",
       "  <tbody>\n",
       "    <tr>\n",
       "      <th>0</th>\n",
       "      <td>2021-03-20 17:38:00</td>\n",
       "      <td>127</td>\n",
       "      <td>NaN</td>\n",
       "    </tr>\n",
       "    <tr>\n",
       "      <th>1</th>\n",
       "      <td>2021-03-20 17:53:00</td>\n",
       "      <td>124</td>\n",
       "      <td>NaN</td>\n",
       "    </tr>\n",
       "    <tr>\n",
       "      <th>2</th>\n",
       "      <td>2021-03-20 18:08:00</td>\n",
       "      <td>121</td>\n",
       "      <td>NaN</td>\n",
       "    </tr>\n",
       "    <tr>\n",
       "      <th>3</th>\n",
       "      <td>2021-03-20 18:23:00</td>\n",
       "      <td>131</td>\n",
       "      <td>NaN</td>\n",
       "    </tr>\n",
       "    <tr>\n",
       "      <th>4</th>\n",
       "      <td>2021-03-20 18:38:00</td>\n",
       "      <td>153</td>\n",
       "      <td>NaN</td>\n",
       "    </tr>\n",
       "  </tbody>\n",
       "</table>\n",
       "</div>"
      ],
      "text/plain": [
       "                 time  glc scan_glc\n",
       "0 2021-03-20 17:38:00  127      NaN\n",
       "1 2021-03-20 17:53:00  124      NaN\n",
       "2 2021-03-20 18:08:00  121      NaN\n",
       "3 2021-03-20 18:23:00  131      NaN\n",
       "4 2021-03-20 18:38:00  153      NaN"
      ]
     },
     "execution_count": 6,
     "metadata": {},
     "output_type": "execute_result"
    }
   ],
   "source": [
    "libre1_transformed = transform.convert_libre(libre1)\n",
    "libre1_transformed.head()"
   ]
  },
  {
   "attachments": {},
   "cell_type": "markdown",
   "metadata": {},
   "source": [
    "#### Dexcom"
   ]
  },
  {
   "cell_type": "code",
   "execution_count": 10,
   "metadata": {},
   "outputs": [
    {
     "name": "stdout",
     "output_type": "stream",
     "text": [
      "Help on function convert_dexcom in module src.diametrics.transform:\n",
      "\n",
      "convert_dexcom(df)\n",
      "    Convert a DataFrame from a Dexcom device format to a standardized format.\n",
      "    \n",
      "    Args:\n",
      "        df (pandas.DataFrame): The DataFrame containing the Dexcom device data.\n",
      "    \n",
      "    Returns:\n",
      "        pandas.DataFrame: The DataFrame in the standardized format.\n",
      "\n"
     ]
    }
   ],
   "source": [
    "help(transform.convert_dexcom)"
   ]
  },
  {
   "cell_type": "code",
   "execution_count": 4,
   "metadata": {},
   "outputs": [
    {
     "data": {
      "text/html": [
       "<div>\n",
       "<style scoped>\n",
       "    .dataframe tbody tr th:only-of-type {\n",
       "        vertical-align: middle;\n",
       "    }\n",
       "\n",
       "    .dataframe tbody tr th {\n",
       "        vertical-align: top;\n",
       "    }\n",
       "\n",
       "    .dataframe thead th {\n",
       "        text-align: right;\n",
       "    }\n",
       "</style>\n",
       "<table border=\"1\" class=\"dataframe\">\n",
       "  <thead>\n",
       "    <tr style=\"text-align: right;\">\n",
       "      <th></th>\n",
       "      <th>time</th>\n",
       "      <th>glc</th>\n",
       "    </tr>\n",
       "  </thead>\n",
       "  <tbody>\n",
       "    <tr>\n",
       "      <th>0</th>\n",
       "      <td>2023-03-08 00:00:44</td>\n",
       "      <td>10.4</td>\n",
       "    </tr>\n",
       "    <tr>\n",
       "      <th>1</th>\n",
       "      <td>2023-03-08 00:05:44</td>\n",
       "      <td>10.3</td>\n",
       "    </tr>\n",
       "    <tr>\n",
       "      <th>2</th>\n",
       "      <td>2023-03-08 00:10:44</td>\n",
       "      <td>10.2</td>\n",
       "    </tr>\n",
       "    <tr>\n",
       "      <th>3</th>\n",
       "      <td>2023-03-08 00:15:44</td>\n",
       "      <td>10.1</td>\n",
       "    </tr>\n",
       "    <tr>\n",
       "      <th>4</th>\n",
       "      <td>2023-03-08 00:20:44</td>\n",
       "      <td>9.9</td>\n",
       "    </tr>\n",
       "  </tbody>\n",
       "</table>\n",
       "</div>"
      ],
      "text/plain": [
       "                 time   glc\n",
       "0 2023-03-08 00:00:44  10.4\n",
       "1 2023-03-08 00:05:44  10.3\n",
       "2 2023-03-08 00:10:44  10.2\n",
       "3 2023-03-08 00:15:44  10.1\n",
       "4 2023-03-08 00:20:44   9.9"
      ]
     },
     "execution_count": 4,
     "metadata": {},
     "output_type": "execute_result"
    }
   ],
   "source": [
    "dxcm2_transformed = transform.convert_dexcom(dxcm2)\n",
    "dxcm2_transformed.head()"
   ]
  }
 ],
 "metadata": {
  "kernelspec": {
   "display_name": "package_play",
   "language": "python",
   "name": "python3"
  },
  "language_info": {
   "codemirror_mode": {
    "name": "ipython",
    "version": 3
   },
   "file_extension": ".py",
   "mimetype": "text/x-python",
   "name": "python",
   "nbconvert_exporter": "python",
   "pygments_lexer": "ipython3",
   "version": "3.9.16"
  },
  "orig_nbformat": 4,
  "vscode": {
   "interpreter": {
    "hash": "c10053011fb043c31a3c6bdb0be69e4ab8cd05542c0cbe3000462b39ae896f3b"
   }
  }
 },
 "nbformat": 4,
 "nbformat_minor": 2
}
