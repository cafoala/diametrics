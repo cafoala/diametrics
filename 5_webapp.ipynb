{
 "cells": [
  {
   "attachments": {},
   "cell_type": "markdown",
   "metadata": {},
   "source": [
    "# 5. Web Application"
   ]
  },
  {
   "attachments": {},
   "cell_type": "markdown",
   "metadata": {},
   "source": [
    "## 5.1. Upload page\n",
    "Easy drag and drop uploading with plenty of flexibility and freedoms with regards to CGM devices"
   ]
  },
  {
   "attachments": {},
   "cell_type": "markdown",
   "metadata": {},
   "source": [
    "![alt text]('../../screenshots/upload.png)"
   ]
  },
  {
   "attachments": {},
   "cell_type": "markdown",
   "metadata": {},
   "source": [
    "## 5.2. Data overview\n",
    "This section serves to give you an overview of the processed CGM files you uploaded and allows you to do some minor editing of the data."
   ]
  },
  {
   "attachments": {},
   "cell_type": "markdown",
   "metadata": {},
   "source": [
    "![alt text]('../../screenshots/overview.png)"
   ]
  },
  {
   "attachments": {},
   "cell_type": "markdown",
   "metadata": {},
   "source": [
    "## 5.3. Analysis options\n",
    "This section gives users more freedom to adjust the metrics to suit their needs but is not necessary to proceed with calculating the standard metrics."
   ]
  },
  {
   "attachments": {},
   "cell_type": "markdown",
   "metadata": {},
   "source": [
    "![alt text]('../../screenshots/options.png)"
   ]
  },
  {
   "attachments": {},
   "cell_type": "markdown",
   "metadata": {},
   "source": [
    "## 5.4. Standard metrics of glycemic control\n",
    "The American Diabetes Assosication (ADA) released the international consensus detailing the important metrics. These metrics are all calculated by Diametrics plus a few other commonly used ones."
   ]
  },
  {
   "attachments": {},
   "cell_type": "markdown",
   "metadata": {},
   "source": [
    "![alt text]('../../screenshots/metrics.png)"
   ]
  },
  {
   "attachments": {},
   "cell_type": "markdown",
   "metadata": {},
   "source": [
    "## 5.5. Visualisations\n",
    "The figures displayed on the Diametrics are all created using Plotly, an interactive Python plotting library. All figures can be downloaded and manipulated using the toolbar available in all of Plotly’s plots. "
   ]
  },
  {
   "attachments": {},
   "cell_type": "markdown",
   "metadata": {},
   "source": [
    "![alt text]('../../screenshots/visualisation.png)"
   ]
  },
  {
   "attachments": {},
   "cell_type": "markdown",
   "metadata": {},
   "source": [
    "## 5.6. Comprehensive documentation\n",
    "There is written documentation accompanied by video instructions for each section of the Web App, making it extremely accessible and user friendly."
   ]
  },
  {
   "attachments": {},
   "cell_type": "markdown",
   "metadata": {},
   "source": [
    "![alt text]('../../screenshots/documentation.png)"
   ]
  }
 ],
 "metadata": {
  "kernelspec": {
   "display_name": "package_play",
   "language": "python",
   "name": "python3"
  },
  "language_info": {
   "codemirror_mode": {
    "name": "ipython",
    "version": 3
   },
   "file_extension": ".py",
   "mimetype": "text/x-python",
   "name": "python",
   "nbconvert_exporter": "python",
   "pygments_lexer": "ipython3",
   "version": "3.9.16"
  },
  "orig_nbformat": 4,
  "vscode": {
   "interpreter": {
    "hash": "c10053011fb043c31a3c6bdb0be69e4ab8cd05542c0cbe3000462b39ae896f3b"
   }
  }
 },
 "nbformat": 4,
 "nbformat_minor": 2
}
