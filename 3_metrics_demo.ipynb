{
 "cells": [
  {
   "attachments": {},
   "cell_type": "markdown",
   "metadata": {},
   "source": [
    "# 3. Metrics of glycemic control"
   ]
  },
  {
   "cell_type": "code",
   "execution_count": 42,
   "metadata": {},
   "outputs": [],
   "source": [
    "import pandas as pd\n",
    "import numpy as np\n",
    "from src.diametrics import transform, metrics, preprocessing\n"
   ]
  },
  {
   "cell_type": "code",
   "execution_count": 2,
   "metadata": {},
   "outputs": [],
   "source": [
    "# Upload and transform data\n",
    "dexcom_data = transform.transform_directory(directory='tests/test_data/dexcom/', device='dexcom')\n",
    "libre1 = transform.open_file('tests/test_data/libre/libre_amer_01.csv')\n",
    "libre1_transformed = transform.convert_libre(libre1)\n",
    "dxcm2 = transform.open_file('tests/test_data/dexcom/dexcom_eur_02.xlsx')\n",
    "dxcm2_transformed = transform.convert_dexcom(dxcm2)"
   ]
  },
  {
   "cell_type": "code",
   "execution_count": 3,
   "metadata": {},
   "outputs": [],
   "source": [
    "# Replace the lo/hi cutoff values\n",
    "dexcom_data = preprocessing.replace_cutoffs(dexcom_data)\n",
    "libre1_transformed = preprocessing.replace_cutoffs(libre1_transformed, lo_cutoff=2.1, hi_cutoff=27.8)\n",
    "dxcm2_transformed = preprocessing.replace_cutoffs(dxcm2_transformed)"
   ]
  },
  {
   "attachments": {},
   "cell_type": "markdown",
   "metadata": {},
   "source": [
    "## 3.1. Individual metrics"
   ]
  },
  {
   "attachments": {},
   "cell_type": "markdown",
   "metadata": {},
   "source": [
    "### 3.1.1. Data sufficiency\n",
    "\n",
    "The data sufficiency is calculated using the first and last reading of the CGM trace you uploaded, unless the start and end times are edited in the ‘data overview’ section, in which case those datetimes will be used. The number of expected readings during this period are calculated based on the interval. The data sufficiency is then calculated as the 100*non-null readings/expected readings.\n",
    "                        \n",
    "Example:\n",
    "* 48hrs and 17 mins of CGM data would be 2897 mins\n",
    "* For a  FreeStyle Libre we divide this by the interval of 15 mins to give the expected readings (193.1333…)\n",
    "* The number of non-null readings are counted for the period (186)\n",
    "* The data sufficiency is 100* 186/193.333 rounded to 2 decimal places (96.83%) \n"
   ]
  },
  {
   "attachments": {},
   "cell_type": "markdown",
   "metadata": {},
   "source": [
    "Docstring:"
   ]
  },
  {
   "cell_type": "code",
   "execution_count": 4,
   "metadata": {},
   "outputs": [
    {
     "name": "stdout",
     "output_type": "stream",
     "text": [
      "Help on function data_sufficiency in module src.diametrics.metrics:\n",
      "\n",
      "data_sufficiency(df, start_time=None, end_time=None)\n",
      "    Calculate the data sufficiency percentage based on the provided DataFrame, gap size, and time range.\n",
      "    \n",
      "    Args:\n",
      "        df (pandas.DataFrame): The DataFrame containing a 'glc' column with glucose readings and a 'time' column with timestamps.\n",
      "        gap_size (int): The size of the gap in minutes to check for data sufficiency.\n",
      "        start_time (datetime.datetime, optional): The start time of the time range. If not provided, it will be determined from the DataFrame. Default is None.\n",
      "        end_time (datetime.datetime, optional): The end time of the time range. If not provided, it will be determined from the DataFrame. Default is None.\n",
      "    \n",
      "    Returns:\n",
      "        dict: A dictionary containing the start and end datetimes of the time range and the data sufficiency percentage.\n",
      "    \n",
      "    Raises:\n",
      "        ValueError: If the gap size is not 5 or 15.\n",
      "    \n",
      "    Note:\n",
      "        - The function calculates the data sufficiency based on the number of non-null values within the specified gap size intervals.\n",
      "        - The start and end times of the time range are either provided or determined from the DataFrame.\n",
      "        - The gap size must be either 5 or 15. Otherwise, a ValueError is raised.\n",
      "        - The data sufficiency percentage is calculated as the ratio of non-null values to the total expected values.\n",
      "\n"
     ]
    }
   ],
   "source": [
    "help(metrics.data_sufficiency)"
   ]
  },
  {
   "attachments": {},
   "cell_type": "markdown",
   "metadata": {},
   "source": [
    "Calling the function"
   ]
  },
  {
   "cell_type": "code",
   "execution_count": 5,
   "metadata": {},
   "outputs": [
    {
     "data": {
      "text/plain": [
       "{'Start DateTime': '2023-03-08 00:01:00',\n",
       " 'End DateTime': '2023-03-21 15:31:00',\n",
       " 'Data Sufficiency (%)': 97.4}"
      ]
     },
     "execution_count": 5,
     "metadata": {},
     "output_type": "execute_result"
    }
   ],
   "source": [
    "metrics.data_sufficiency(dxcm2_transformed)"
   ]
  },
  {
   "attachments": {},
   "cell_type": "markdown",
   "metadata": {},
   "source": [
    "### 3.1.2. Average glucose\n",
    "The average glucose is calculated as the mean glucose reading of all the readings using a Pandas function."
   ]
  },
  {
   "cell_type": "code",
   "execution_count": 6,
   "metadata": {},
   "outputs": [
    {
     "name": "stdout",
     "output_type": "stream",
     "text": [
      "Help on function average_glc in module src.diametrics.metrics:\n",
      "\n",
      "average_glc(df)\n",
      "    Calculate the average glucose reading from the 'glc' column in the DataFrame.\n",
      "    \n",
      "    Args:\n",
      "        df (pandas.DataFrame): The DataFrame containing a 'glc' column with glucose readings.\n",
      "    \n",
      "    Returns:\n",
      "        float: The average glucose reading.\n",
      "    \n",
      "    Note:\n",
      "        - The function uses the 'mean' method from pandas.DataFrame to calculate the average.\n",
      "        - It returns the average glucose reading as a float value.\n",
      "\n"
     ]
    }
   ],
   "source": [
    "help(metrics.average_glc)"
   ]
  },
  {
   "cell_type": "code",
   "execution_count": 7,
   "metadata": {},
   "outputs": [
    {
     "data": {
      "text/plain": [
       "126.06721433905899"
      ]
     },
     "execution_count": 7,
     "metadata": {},
     "output_type": "execute_result"
    }
   ],
   "source": [
    "metrics.average_glc(libre1_transformed)"
   ]
  },
  {
   "attachments": {},
   "cell_type": "markdown",
   "metadata": {},
   "source": [
    "### 3.1.3. Glycemic variability          \n",
    "Standard deviation (SD) is the standard deviation of all the glucose readings (obviously), once again calculated with a Pandas function.\n",
    "\n",
    "Coefficient of variation (CV) is 100 * SD / avg. glucose."
   ]
  },
  {
   "cell_type": "code",
   "execution_count": 8,
   "metadata": {},
   "outputs": [
    {
     "name": "stdout",
     "output_type": "stream",
     "text": [
      "Help on function glycemic_variability in module src.diametrics.metrics:\n",
      "\n",
      "glycemic_variability(df)\n",
      "    Calculate the glycemic variability metrics for glucose readings in the DataFrame.\n",
      "    \n",
      "    Args:\n",
      "        df (pandas.DataFrame): The DataFrame containing a 'glc' column with glucose readings.\n",
      "    \n",
      "    Returns:\n",
      "        dict: A dictionary containing the calculated glycemic variability metrics.\n",
      "    \n",
      "    Note:\n",
      "        - The function uses the 'average_glc' function to calculate the average glucose reading.\n",
      "        - It then calculates the standard deviation (SD) of glucose readings using the 'std' method from pandas.Series.\n",
      "        - The coefficient of variation (CV) is calculated as (SD * 100 / average glucose).\n",
      "        - The calculated SD and CV values are returned as a dictionary with corresponding labels.\n",
      "\n"
     ]
    }
   ],
   "source": [
    "help(metrics.glycemic_variability)"
   ]
  },
  {
   "cell_type": "code",
   "execution_count": 9,
   "metadata": {},
   "outputs": [
    {
     "data": {
      "text/plain": [
       "{'SD': 3.0850394980568345, 'CV (%)': 39.21903424368059}"
      ]
     },
     "execution_count": 9,
     "metadata": {},
     "output_type": "execute_result"
    }
   ],
   "source": [
    "metrics.glycemic_variability(dxcm2_transformed)"
   ]
  },
  {
   "attachments": {},
   "cell_type": "markdown",
   "metadata": {},
   "source": [
    "### 3.1.4. Time in range\n",
    " The percentage time in range is calculated for the 5 ranges specified in the international consensus by default, with the ability to add more in the ‘analysis options’ section of the dashboard.\n",
    "                                \n",
    "The ranges are:\n",
    "* Time in normal range (3.9-10.0 mmol/L)\n",
    "* Time in level 1 hypoglycemia (3.0-3.9 mmol/L)\n",
    "* Time in level 2 hypoglycemia (<3.0 mmol/L)\n",
    "* Time in level 1 hyperglycemia (10.0-13.9 mmol/L)\n",
    "* Time in level 2 hyperglycemia (>13.9 mmol/L)\n",
    "\n",
    "The time in range is calculated as a percentage of the readings in the specified range over the total number of readings * 100.\n"
   ]
  },
  {
   "cell_type": "code",
   "execution_count": 10,
   "metadata": {},
   "outputs": [
    {
     "name": "stdout",
     "output_type": "stream",
     "text": [
      "Help on function time_in_range in module src.diametrics.metrics:\n",
      "\n",
      "time_in_range(df)\n",
      "    Helper function for time in range calculation with normal thresholds. Calculates the percentage of readings within\n",
      "    each threshold by dividing the number of readings within range by total length of the series.\n",
      "    \n",
      "    Args:\n",
      "        df (pandas.DataFrame): The DataFrame containing a 'glc' column with glucose readings.\n",
      "    \n",
      "    Returns:\n",
      "        dict: A dictionary containing the percentages of readings within each threshold range.\n",
      "    \n",
      "    Note:\n",
      "        - The function calculates the percentage of readings within different threshold ranges for time in range (TIR) analysis.\n",
      "        - TIR normal represents the percentage of readings within the range [3.9, 10].\n",
      "        - TIR normal 1 represents the percentage of readings within the range [3.9, 7.8].\n",
      "        - TIR normal 2 represents the percentage of readings within the range [7.8, 10].\n",
      "        - TIR level 1 hypoglycemia represents the percentage of readings within the range [3, 3.9].\n",
      "        - TIR level 2 hypoglycemia represents the percentage of readings below 3.\n",
      "        - TIR level 1 hyperglycemia represents the percentage of readings within the range (10, 13.9].\n",
      "        - TIR level 2 hyperglycemia represents the percentage of readings above 13.9.\n",
      "\n"
     ]
    }
   ],
   "source": [
    "help(metrics.time_in_range)"
   ]
  },
  {
   "cell_type": "code",
   "execution_count": 11,
   "metadata": {},
   "outputs": [
    {
     "data": {
      "text/plain": [
       "{'TIR normal': 90.44,\n",
       " 'TIR normal 1': 67.66,\n",
       " 'TIR normal 2': 22.78,\n",
       " 'TIR level 1 hypoglycemia': 0.3,\n",
       " 'TIR level 2 hypoglycemia': 0.0,\n",
       " 'TIR level 1 hyperglycemia': 9.26,\n",
       " 'TIR level 2 hyperglycemia': 0.0}"
      ]
     },
     "execution_count": 11,
     "metadata": {},
     "output_type": "execute_result"
    }
   ],
   "source": [
    "metrics.time_in_range(libre1_transformed)"
   ]
  },
  {
   "attachments": {},
   "cell_type": "markdown",
   "metadata": {},
   "source": [
    "### 3.1.5. Area under the curve\n",
    "\n",
    "Area under the curve is calculated with SciKit Learn’s function that uses the trapezoidal rule (drawing a straight line between two points and calculating the area underneath).\n",
    "\n",
    "To get the data in the right format, the datetime needs to be rewritten as number of hours from the first reading (which is 0). E.g., for 15 minute Libre readings, the 1st reading would be 0, the next would be 0.25 etc.\n",
    "\n",
    "The trapezoidal rule is then used to give the average hourly AUC in either mmol h/L or mg h/dL.\n"
   ]
  },
  {
   "cell_type": "code",
   "execution_count": 12,
   "metadata": {},
   "outputs": [
    {
     "name": "stdout",
     "output_type": "stream",
     "text": [
      "Help on function auc in module src.diametrics.metrics:\n",
      "\n",
      "auc(df)\n",
      "    Calculate the area under the curve (AUC) for glucose readings in the DataFrame.\n",
      "    \n",
      "    Args:\n",
      "        df (pandas.DataFrame): The DataFrame containing a 'glc' column with glucose readings and a 'time' column with timestamps.\n",
      "    \n",
      "    Returns:\n",
      "        dict: A dictionary containing the hourly average AUC, daily AUC breakdown, and hourly AUC breakdown.\n",
      "    \n",
      "    Note:\n",
      "        - The function calculates the AUC by breaking down the DataFrame into hourly and daily intervals.\n",
      "        - It uses the 'calculate_auc' function to calculate the AUC for each group.\n",
      "        - The hourly AUC breakdown is a DataFrame with columns 'date', 'hour', and 'auc'.\n",
      "        - The daily AUC breakdown is a Series with dates as the index and average AUC values as the values.\n",
      "        - The hourly average AUC is the mean of the AUC values in the hourly breakdown.\n",
      "\n"
     ]
    }
   ],
   "source": [
    "help(metrics.auc)"
   ]
  },
  {
   "cell_type": "code",
   "execution_count": 13,
   "metadata": {},
   "outputs": [
    {
     "data": {
      "text/plain": [
       "{'avg_hourly_auc': 7.104192692307693,\n",
       " 'auc_daily_breakdown': date\n",
       " 2023-03-08    7.207328\n",
       " 2023-03-09    6.893435\n",
       " 2023-03-10    6.799266\n",
       " 2023-03-11    6.930716\n",
       " 2023-03-12    7.760576\n",
       " 2023-03-13    7.869531\n",
       " 2023-03-14    3.807138\n",
       " 2023-03-15    6.931900\n",
       " 2023-03-16    7.710509\n",
       " 2023-03-17    7.150480\n",
       " 2023-03-18    7.972437\n",
       " 2023-03-19    7.761687\n",
       " 2023-03-20    7.633791\n",
       " 2023-03-21    6.765155\n",
       " Name: auc, dtype: float64,\n",
       " 'auc_hourly_breakdown':            date  hour       auc\n",
       " 0    2023-03-08     0  9.033333\n",
       " 1    2023-03-08     1  7.758250\n",
       " 2    2023-03-08     2  6.091625\n",
       " 3    2023-03-08     3  5.314764\n",
       " 4    2023-03-08     4  4.774972\n",
       " ..          ...   ...       ...\n",
       " 320  2023-03-21    11  5.268347\n",
       " 321  2023-03-21    12  3.593500\n",
       " 322  2023-03-21    13  3.971778\n",
       " 323  2023-03-21    14  5.391375\n",
       " 324  2023-03-21    15  3.389639\n",
       " \n",
       " [325 rows x 3 columns]}"
      ]
     },
     "execution_count": 13,
     "metadata": {},
     "output_type": "execute_result"
    }
   ],
   "source": [
    "metrics.auc(dxcm2_transformed)"
   ]
  },
  {
   "attachments": {},
   "cell_type": "markdown",
   "metadata": {},
   "source": [
    "### 3.1.6. eA1c\n",
    "eA1c is calculated as (avg. glucose + 2.59) / 1.59 for mmol/L and (avg. glucose + 46.7) / 28.7 for mg/dL."
   ]
  },
  {
   "cell_type": "code",
   "execution_count": 14,
   "metadata": {},
   "outputs": [
    {
     "name": "stdout",
     "output_type": "stream",
     "text": [
      "Help on function ea1c in module src.diametrics.metrics:\n",
      "\n",
      "ea1c(df)\n",
      "    Calculate estimated average HbA1c (eA1c) based on the average glucose readings in the DataFrame.\n",
      "    \n",
      "    Args:\n",
      "        df (pandas.DataFrame): The DataFrame containing a 'glc' column with glucose readings.\n",
      "    \n",
      "    Returns:\n",
      "        float: The estimated average HbA1c (eA1c) value.\n",
      "    \n",
      "    Note:\n",
      "        - The function calculates the average glucose reading from the 'glc' column in the DataFrame.\n",
      "        - It determines the units of the glucose readings using the 'detect_units' function from the 'preprocessing' module.\n",
      "        - If the units are 'mmol/l', the eA1c is calculated using the formula: (average glucose + 2.59) / 1.59.\n",
      "        - If the units are not 'mmol/l', the eA1c is calculated using the formula: (average glucose + 46.7) / 28.7.\n",
      "        - The calculated eA1c value is returned as a float.\n",
      "\n"
     ]
    }
   ],
   "source": [
    "help(metrics.ea1c)"
   ]
  },
  {
   "cell_type": "code",
   "execution_count": 15,
   "metadata": {},
   "outputs": [
    {
     "data": {
      "text/plain": [
       "6.019763565820871"
      ]
     },
     "execution_count": 15,
     "metadata": {},
     "output_type": "execute_result"
    }
   ],
   "source": [
    "metrics.ea1c(libre1_transformed)"
   ]
  },
  {
   "attachments": {},
   "cell_type": "markdown",
   "metadata": {},
   "source": [
    "### 3.1.7. Hypoglycemic and hyperglycemic episodes\n",
    "Hypo- and hyper-glycemic events are defined as 15 minutes or more below and above the relevant thresholds respectively.\n",
    "                        \n",
    "Since this metric is dependent on the progression of time, it is affected more greatly by missing data and discrepancies in recording interval. It also doesn’t help that the international consensus is incredibly vague about this metric.\n",
    "\n",
    "The way the hypoglycemic events were calculated is as follows, the same will be the case with hyperglycemic events, but just working above the thresholds rather than below.\n",
    "* Identify all times the glucose dips below 3.9mmol/L for at least 15 mins (2 readings for FreeStyle Libre, 4 for Dexcom and Medtronic)\n",
    "* If there is another dip below the threshold within the next 15 mins of the glucose coming back up then it is part of the same event\n",
    "* If 15 consecutive minutes of readings go below the level 2 hypoglycemia threshold (3.0mmol/L) then it is considered to be a level 2 event. If not, it’s just a level 1 event.\n",
    "* Only when the glucose rises above the threshold for 15 mins is the event over\n",
    "* The start time and end time of each episode are used to calculate the total time spent in hypoglycemia and the average length of event\n",
    "\n",
    "Things get a bit more complicated if there’s missing data. These are the assumptions that have been made in order to calculate the events and may result in very high time spent in events and average glucose readings.\n",
    "* If the glucose readings drop out during an event, if the first glucose reading after the drop out is also in hypoglycemia, this is considered to be part of the same episode. This is where you could end up with very long episodes if there’s a lot of missing data and it cuts out and cuts in in hypoglycemia. \n",
    "* However, if the first glucose reading is not below the hypoglycemia threshold, the episode is considered to have ended with the last glucose reading\n",
    "* If there are, for example, 10 mins of readings in hypoglycemia and then the readings cut out for 15 mins, then come back in with 10 mins of hypoglycemia, this is not considered an episode because there aren’t 15 mins of consistent readings                        \n",
    "                    "
   ]
  },
  {
   "cell_type": "code",
   "execution_count": 16,
   "metadata": {},
   "outputs": [
    {
     "name": "stdout",
     "output_type": "stream",
     "text": [
      "Help on function glycemic_episodes in module src.diametrics.metrics:\n",
      "\n",
      "glycemic_episodes(df, hypo_lv1_thresh=None, hypo_lv2_thresh=None, hyper_lv1_thresh=None, hyper_lv2_thresh=None, mins=15, long_mins=120)\n",
      "    Calculate the statistics of glycemic episodes (hypoglycemic and hyperglycemic events) based on glucose readings.\n",
      "    \n",
      "    Args:\n",
      "        df (pandas.DataFrame): The DataFrame containing a 'glc' column with glucose readings and a 'time' column with timestamps.\n",
      "        hypo_lv1_thresh (float, optional): Level 1 hypoglycemic threshold. If not provided, it will be determined based on the units detected. Default is None.\n",
      "        hypo_lv2_thresh (float, optional): Level 2 hypoglycemic threshold. If not provided, it will be determined based on the units detected. Default is None.\n",
      "        hyper_lv1_thresh (float, optional): Level 1 hyperglycemic threshold. If not provided, it will be determined based on the units detected. Default is None.\n",
      "        hyper_lv2_thresh (float, optional): Level 2 hyperglycemic threshold. If not provided, it will be determined based on the units detected. Default is None.\n",
      "        mins (int, optional): Minimum duration in minutes for an episode to be considered. Default is 15.\n",
      "        long_mins (int, optional): Minimum duration in minutes for a prolonged episode to be considered. Default is 120.\n",
      "    \n",
      "    Returns:\n",
      "        dict: A dictionary containing the statistics of glycemic episodes.\n",
      "    \n",
      "    Note:\n",
      "        - The function detects the units of glucose readings in the DataFrame.\n",
      "        - The threshold values for hypoglycemic and hyperglycemic episodes are determined based on the detected units, unless explicitly provided.\n",
      "        - The function calculates the statistics of glycemic episodes using the '_glycemic_events_helper.calculate_episodes' helper function.\n",
      "        - The calculated statistics include the total number, LV1 (Level 1) events, LV2 (Level 2) events, prolonged events, average length, and total time spent in episodes for both hypoglycemic and hyperglycemic events.\n",
      "\n"
     ]
    }
   ],
   "source": [
    "help(metrics.glycemic_episodes)"
   ]
  },
  {
   "cell_type": "code",
   "execution_count": 17,
   "metadata": {},
   "outputs": [
    {
     "data": {
      "text/plain": [
       "{'Total number hypoglycemic events': 1,\n",
       " 'Number LV1 hypoglycemic events': 1,\n",
       " 'Number LV2 hypoglycemic events': 0,\n",
       " 'Number prolonged hypoglycemic events': 0,\n",
       " 'Avg. length of hypoglycemic events': '0 days 01:00:00',\n",
       " 'Total time spent in hypoglycemic events': '0 days 01:00:00',\n",
       " 'Total number hyperglycemic events': 16,\n",
       " 'Number LV1 hyperglycemic events': 16,\n",
       " 'Number LV2 hyperglycemic events': 0,\n",
       " 'Number prolonged hyperglycemic events': 0,\n",
       " 'Avg. length of hyperglycemic events': '0 days 01:56:15',\n",
       " 'Total time spent in hyperglycemic events': '1 days 07:00:00'}"
      ]
     },
     "execution_count": 17,
     "metadata": {},
     "output_type": "execute_result"
    }
   ],
   "source": [
    "metrics.glycemic_episodes(libre1_transformed)"
   ]
  },
  {
   "attachments": {},
   "cell_type": "markdown",
   "metadata": {},
   "source": [
    "### 3.1.8. LBGI and HBGI\n",
    "\n",
    "Blood glucose (BG) readings are transformed first, using one of the following two formulas:\n",
    "\n",
    "    mmol/L: Transformed BG = 1.794*{log(BG)^1.026 - 1.861}\n",
    "\n",
    "    mg/dL: Transformed BG = 1.509*{log(BG)^1.084 - 5.381}\n",
    "\n",
    "This makes the transformed BG symmetric around zero, ranging from 10^1/2 to 10^1/2 . Then, a risk value is assigned to each BG reading as follows.\n",
    "\n",
    "For the low blood glucose index (LBGI) that is as follows:\n",
    "\n",
    "    If Transformed BG is < 0, Risk(BG) = 10*(Transformed BG)^2, otherwise Risk(BG) = 0\n",
    "Then take the mean of these values.\n",
    "\n",
    "\n",
    "For high bloood glucose index (HBGI):\n",
    "\n",
    "    If Transformed BG is > 0, Risk(BG) = 10* (Transformed BG)^2, otherwise Risk(BG) = 0\n",
    "HBGI is the mean of all these readings.\n",
    "\n",
    "The paper can be found [here](https://diabetesjournals.org/care/article/21/11/1870/23103/Assessment-of-risk-for-severe-hypoglycemia-among) \n"
   ]
  },
  {
   "cell_type": "code",
   "execution_count": 18,
   "metadata": {},
   "outputs": [
    {
     "name": "stdout",
     "output_type": "stream",
     "text": [
      "Help on function bgi in module src.diametrics.metrics:\n",
      "\n",
      "bgi(df)\n",
      "    Calculate the Blood Glucose Index (BGI) metrics for a DataFrame of glucose readings.\n",
      "    \n",
      "    Args:\n",
      "        df (pandas.DataFrame): The DataFrame containing a 'glc' column with glucose readings.\n",
      "    \n",
      "    Returns:\n",
      "        dict: A dictionary containing the Low Blood Glucose Index (LBGI) and High Blood Glucose Index (HBGI) values.\n",
      "    \n",
      "    Note:\n",
      "        - The function calculates the LBGI and HBGI based on the glucose readings and detects the units of measurement.\n",
      "        - The LBGI and HBGI are average values calculated from individual readings using the 'lbgi' and 'hbgi' functions.\n",
      "\n"
     ]
    }
   ],
   "source": [
    "help(metrics.bgi)"
   ]
  },
  {
   "cell_type": "code",
   "execution_count": 19,
   "metadata": {},
   "outputs": [
    {
     "data": {
      "text/plain": [
       "{'LBGI': 1.7291700433451427, 'HBGI': 4.962552708817989}"
      ]
     },
     "execution_count": 19,
     "metadata": {},
     "output_type": "execute_result"
    }
   ],
   "source": [
    "metrics.bgi(dxcm2_transformed)"
   ]
  },
  {
   "attachments": {},
   "cell_type": "markdown",
   "metadata": {},
   "source": [
    "### 3.1.9. Mean amplitude of glycemic excursions (MAGE)\n",
    "The mean amplitude of glycemic excursion (MAGE) is calculated using Scipy’s signal class. The peaks and troughs with a prominence of greater than the standard deviation are selected.\n",
    "\n",
    "The difference between the peaks and troughs are then calculated separately for both the positive glucose and negative glucose differences. The mean is then calculated between the positive MAGE and the positive of the negative MAGE to calculate the final MAGE mean.\n"
   ]
  },
  {
   "cell_type": "code",
   "execution_count": 20,
   "metadata": {},
   "outputs": [
    {
     "name": "stdout",
     "output_type": "stream",
     "text": [
      "Help on function mage in module src.diametrics.metrics:\n",
      "\n",
      "mage(df)\n",
      "    Calculate the mean amplitude of glycemic excursions (MAGE) using scipy's signal class.\n",
      "    \n",
      "    Args:\n",
      "        df (pandas.DataFrame): The DataFrame containing a 'glc' column with glucose readings and a 'time' column with timestamps.\n",
      "    \n",
      "    Returns:\n",
      "        dict: A dictionary containing the MAGE value.\n",
      "    \n",
      "    Note:\n",
      "        - The function uses scipy's signal.find_peaks function to find peaks and troughs in the glucose readings.\n",
      "        - It then calculates the positive and negative MAGE and returns their mean.\n",
      "\n"
     ]
    }
   ],
   "source": [
    "help(metrics.mage)"
   ]
  },
  {
   "cell_type": "code",
   "execution_count": 21,
   "metadata": {},
   "outputs": [
    {
     "data": {
      "text/plain": [
       "{'MAGE': 7.927027027027027}"
      ]
     },
     "execution_count": 21,
     "metadata": {},
     "output_type": "execute_result"
    }
   ],
   "source": [
    "metrics.mage(dxcm2_transformed)"
   ]
  },
  {
   "attachments": {},
   "cell_type": "markdown",
   "metadata": {},
   "source": [
    "### 3.1.10. Calculate percentiles\n",
    "\n",
    "This function will provide all of the percentiles used in the AGP, the 10th, 25th, 50th, 75th and 90th percentiles."
   ]
  },
  {
   "cell_type": "code",
   "execution_count": 22,
   "metadata": {},
   "outputs": [
    {
     "name": "stdout",
     "output_type": "stream",
     "text": [
      "Help on function percentiles in module src.diametrics.metrics:\n",
      "\n",
      "percentiles(df)\n",
      "    Calculate various percentiles of glucose readings in the DataFrame.\n",
      "    \n",
      "    Args:\n",
      "        df (pandas.DataFrame): The DataFrame containing a 'glc' column with glucose readings.\n",
      "    \n",
      "    Returns:\n",
      "        dict: A dictionary containing the calculated percentiles of glucose readings.\n",
      "    \n",
      "    Note:\n",
      "        - The function uses the numpy function np.percentile to calculate the specified percentiles.\n",
      "        - The percentiles calculated are: 0th, 10th, 25th, 50th (median), 75th, 90th, and 100th.\n",
      "        - The values are returned as a dictionary with keys representing the percentile labels and values representing the corresponding percentile values.\n",
      "\n"
     ]
    }
   ],
   "source": [
    "help(metrics.percentiles)"
   ]
  },
  {
   "cell_type": "code",
   "execution_count": 23,
   "metadata": {},
   "outputs": [
    {
     "data": {
      "text/plain": [
       "{'Min. glucose': 2.2,\n",
       " '10th percentile': 4.2,\n",
       " '25th percentile': 5.4,\n",
       " '50th percentile': 7.3,\n",
       " '75th percentile': 10.2,\n",
       " '90th percentile': 12.0,\n",
       " 'Max. glucose': 22.1}"
      ]
     },
     "execution_count": 23,
     "metadata": {},
     "output_type": "execute_result"
    }
   ],
   "source": [
    "metrics.percentiles(dxcm2_transformed)"
   ]
  },
  {
   "attachments": {},
   "cell_type": "markdown",
   "metadata": {},
   "source": [
    "## 3.1. All standard metrics"
   ]
  },
  {
   "cell_type": "code",
   "execution_count": 27,
   "metadata": {},
   "outputs": [
    {
     "name": "stdout",
     "output_type": "stream",
     "text": [
      "Help on function all_standard_metrics in module src.diametrics.metrics:\n",
      "\n",
      "all_standard_metrics(df, return_df=True, lv1_hypo=None, lv2_hypo=None, lv1_hyper=None, lv2_hyper=None, additional_tirs=None, event_mins=15, event_long_mins=120)\n",
      "    Calculate standard metrics of glycemic control for glucose data.\n",
      "    \n",
      "    Args:\n",
      "        df (DataFrame): Input DataFrame containing glucose data.\n",
      "        return_df (bool, optional): Flag indicating whether to return the results as a DataFrame. Defaults to True.\n",
      "        lv1_hypo (float, optional): Level 1 hypoglycemia threshold. Defaults to None.\n",
      "        lv2_hypo (float, optional): Level 2 hypoglycemia threshold. Defaults to None.\n",
      "        lv1_hyper (float, optional): Level 1 hyperglycemia threshold. Defaults to None.\n",
      "        lv2_hyper (float, optional): Level 2 hyperglycemia threshold. Defaults to None.\n",
      "        additional_tirs (list, optional): Additional time in range thresholds. Defaults to None.\n",
      "        event_mins (int, optional): Duration in minutes for identifying glycemic events. Defaults to 15.\n",
      "        event_long_mins (int, optional): Duration in minutes for identifying long glycemic events. Defaults to 120.\n",
      "    \n",
      "    Returns:\n",
      "        DataFrame or dict: Calculated standard metrics as a DataFrame if return_df is True, or as a dictionary if return_df is False.\n",
      "    \n",
      "    Raises:\n",
      "        Exception: If the input DataFrame fails the data check.\n",
      "\n"
     ]
    }
   ],
   "source": [
    "help(metrics.all_standard_metrics)"
   ]
  },
  {
   "cell_type": "code",
   "execution_count": 28,
   "metadata": {},
   "outputs": [
    {
     "data": {
      "text/html": [
       "<div>\n",
       "<style scoped>\n",
       "    .dataframe tbody tr th:only-of-type {\n",
       "        vertical-align: middle;\n",
       "    }\n",
       "\n",
       "    .dataframe tbody tr th {\n",
       "        vertical-align: top;\n",
       "    }\n",
       "\n",
       "    .dataframe thead th {\n",
       "        text-align: right;\n",
       "    }\n",
       "</style>\n",
       "<table border=\"1\" class=\"dataframe\">\n",
       "  <thead>\n",
       "    <tr style=\"text-align: right;\">\n",
       "      <th></th>\n",
       "      <th>Start DateTime</th>\n",
       "      <th>End DateTime</th>\n",
       "      <th>Data Sufficiency (%)</th>\n",
       "      <th>Days</th>\n",
       "      <th>Average glucose</th>\n",
       "      <th>eA1c (%)</th>\n",
       "      <th>AUC</th>\n",
       "      <th>SD</th>\n",
       "      <th>CV (%)</th>\n",
       "      <th>LBGI</th>\n",
       "      <th>...</th>\n",
       "      <th>Number LV2 hypoglycemic events</th>\n",
       "      <th>Number prolonged hypoglycemic events</th>\n",
       "      <th>Avg. length of hypoglycemic events</th>\n",
       "      <th>Total time spent in hypoglycemic events</th>\n",
       "      <th>Total number hyperglycemic events</th>\n",
       "      <th>Number LV1 hyperglycemic events</th>\n",
       "      <th>Number LV2 hyperglycemic events</th>\n",
       "      <th>Number prolonged hyperglycemic events</th>\n",
       "      <th>Avg. length of hyperglycemic events</th>\n",
       "      <th>Total time spent in hyperglycemic events</th>\n",
       "    </tr>\n",
       "  </thead>\n",
       "  <tbody>\n",
       "    <tr>\n",
       "      <th>0</th>\n",
       "      <td>2021-03-20 17:38:00</td>\n",
       "      <td>2021-04-03 16:08:00</td>\n",
       "      <td>100</td>\n",
       "      <td>13 days 22:30:00</td>\n",
       "      <td>126.067214</td>\n",
       "      <td>6.019764</td>\n",
       "      <td>94.382836</td>\n",
       "      <td>36.505584</td>\n",
       "      <td>28.957239</td>\n",
       "      <td>0.675633</td>\n",
       "      <td>...</td>\n",
       "      <td>0</td>\n",
       "      <td>0</td>\n",
       "      <td>0 days 01:00:00</td>\n",
       "      <td>0 days 01:00:00</td>\n",
       "      <td>16</td>\n",
       "      <td>16</td>\n",
       "      <td>0</td>\n",
       "      <td>0</td>\n",
       "      <td>0 days 01:56:15</td>\n",
       "      <td>1 days 07:00:00</td>\n",
       "    </tr>\n",
       "  </tbody>\n",
       "</table>\n",
       "<p>1 rows × 31 columns</p>\n",
       "</div>"
      ],
      "text/plain": [
       "        Start DateTime         End DateTime  Data Sufficiency (%)   \n",
       "0  2021-03-20 17:38:00  2021-04-03 16:08:00                   100  \\\n",
       "\n",
       "               Days  Average glucose  eA1c (%)        AUC         SD   \n",
       "0  13 days 22:30:00       126.067214  6.019764  94.382836  36.505584  \\\n",
       "\n",
       "      CV (%)      LBGI  ...  Number LV2 hypoglycemic events   \n",
       "0  28.957239  0.675633  ...                               0  \\\n",
       "\n",
       "   Number prolonged hypoglycemic events  Avg. length of hypoglycemic events   \n",
       "0                                     0                     0 days 01:00:00  \\\n",
       "\n",
       "   Total time spent in hypoglycemic events  Total number hyperglycemic events   \n",
       "0                          0 days 01:00:00                                 16  \\\n",
       "\n",
       "   Number LV1 hyperglycemic events  Number LV2 hyperglycemic events   \n",
       "0                               16                                0  \\\n",
       "\n",
       "   Number prolonged hyperglycemic events  Avg. length of hyperglycemic events   \n",
       "0                                      0                      0 days 01:56:15  \\\n",
       "\n",
       "   Total time spent in hyperglycemic events  \n",
       "0                           1 days 07:00:00  \n",
       "\n",
       "[1 rows x 31 columns]"
      ]
     },
     "execution_count": 28,
     "metadata": {},
     "output_type": "execute_result"
    }
   ],
   "source": [
    "metrics.all_standard_metrics(libre1_transformed)"
   ]
  },
  {
   "cell_type": "code",
   "execution_count": 29,
   "metadata": {},
   "outputs": [
    {
     "data": {
      "text/html": [
       "<div>\n",
       "<style scoped>\n",
       "    .dataframe tbody tr th:only-of-type {\n",
       "        vertical-align: middle;\n",
       "    }\n",
       "\n",
       "    .dataframe tbody tr th {\n",
       "        vertical-align: top;\n",
       "    }\n",
       "\n",
       "    .dataframe thead th {\n",
       "        text-align: right;\n",
       "    }\n",
       "</style>\n",
       "<table border=\"1\" class=\"dataframe\">\n",
       "  <thead>\n",
       "    <tr style=\"text-align: right;\">\n",
       "      <th></th>\n",
       "      <th></th>\n",
       "      <th>Start DateTime</th>\n",
       "      <th>End DateTime</th>\n",
       "      <th>Data Sufficiency (%)</th>\n",
       "      <th>Days</th>\n",
       "      <th>Average glucose</th>\n",
       "      <th>eA1c (%)</th>\n",
       "      <th>AUC</th>\n",
       "      <th>SD</th>\n",
       "      <th>CV (%)</th>\n",
       "      <th>LBGI</th>\n",
       "      <th>...</th>\n",
       "      <th>Number LV2 hypoglycemic events</th>\n",
       "      <th>Number prolonged hypoglycemic events</th>\n",
       "      <th>Avg. length of hypoglycemic events</th>\n",
       "      <th>Total time spent in hypoglycemic events</th>\n",
       "      <th>Total number hyperglycemic events</th>\n",
       "      <th>Number LV1 hyperglycemic events</th>\n",
       "      <th>Number LV2 hyperglycemic events</th>\n",
       "      <th>Number prolonged hyperglycemic events</th>\n",
       "      <th>Avg. length of hyperglycemic events</th>\n",
       "      <th>Total time spent in hyperglycemic events</th>\n",
       "    </tr>\n",
       "    <tr>\n",
       "      <th>ID</th>\n",
       "      <th></th>\n",
       "      <th></th>\n",
       "      <th></th>\n",
       "      <th></th>\n",
       "      <th></th>\n",
       "      <th></th>\n",
       "      <th></th>\n",
       "      <th></th>\n",
       "      <th></th>\n",
       "      <th></th>\n",
       "      <th></th>\n",
       "      <th></th>\n",
       "      <th></th>\n",
       "      <th></th>\n",
       "      <th></th>\n",
       "      <th></th>\n",
       "      <th></th>\n",
       "      <th></th>\n",
       "      <th></th>\n",
       "      <th></th>\n",
       "      <th></th>\n",
       "      <th></th>\n",
       "    </tr>\n",
       "  </thead>\n",
       "  <tbody>\n",
       "    <tr>\n",
       "      <th>dexcom_eur_01</th>\n",
       "      <th>0</th>\n",
       "      <td>2023-03-08 00:04:00</td>\n",
       "      <td>2023-03-21 15:29:00</td>\n",
       "      <td>97.3</td>\n",
       "      <td>13 days 15:25:00</td>\n",
       "      <td>9.151752</td>\n",
       "      <td>7.384750</td>\n",
       "      <td>8.291685</td>\n",
       "      <td>3.121628</td>\n",
       "      <td>34.109626</td>\n",
       "      <td>0.301074</td>\n",
       "      <td>...</td>\n",
       "      <td>0</td>\n",
       "      <td>0</td>\n",
       "      <td>0 days 00:31:16</td>\n",
       "      <td>0 days 02:05:02</td>\n",
       "      <td>33</td>\n",
       "      <td>20</td>\n",
       "      <td>13</td>\n",
       "      <td>5</td>\n",
       "      <td>0 days 03:30:37</td>\n",
       "      <td>4 days 19:50:13</td>\n",
       "    </tr>\n",
       "    <tr>\n",
       "      <th>dexcom_eur_02</th>\n",
       "      <th>0</th>\n",
       "      <td>2023-03-08 00:01:00</td>\n",
       "      <td>2023-03-21 15:31:00</td>\n",
       "      <td>97.4</td>\n",
       "      <td>13 days 15:30:00</td>\n",
       "      <td>7.866179</td>\n",
       "      <td>6.576213</td>\n",
       "      <td>7.104193</td>\n",
       "      <td>3.085039</td>\n",
       "      <td>39.219034</td>\n",
       "      <td>1.729170</td>\n",
       "      <td>...</td>\n",
       "      <td>9</td>\n",
       "      <td>0</td>\n",
       "      <td>0 days 01:00:58</td>\n",
       "      <td>1 days 02:25:06</td>\n",
       "      <td>25</td>\n",
       "      <td>19</td>\n",
       "      <td>6</td>\n",
       "      <td>1</td>\n",
       "      <td>0 days 03:20:48</td>\n",
       "      <td>3 days 11:40:04</td>\n",
       "    </tr>\n",
       "    <tr>\n",
       "      <th>dexcom_eur_03</th>\n",
       "      <th>0</th>\n",
       "      <td>2023-03-08 00:01:00</td>\n",
       "      <td>2023-03-21 15:40:00</td>\n",
       "      <td>95.9</td>\n",
       "      <td>13 days 15:39:00</td>\n",
       "      <td>8.212228</td>\n",
       "      <td>6.793854</td>\n",
       "      <td>7.369449</td>\n",
       "      <td>3.256385</td>\n",
       "      <td>39.652884</td>\n",
       "      <td>1.397236</td>\n",
       "      <td>...</td>\n",
       "      <td>7</td>\n",
       "      <td>0</td>\n",
       "      <td>0 days 01:02:11</td>\n",
       "      <td>0 days 16:35:03</td>\n",
       "      <td>40</td>\n",
       "      <td>28</td>\n",
       "      <td>12</td>\n",
       "      <td>3</td>\n",
       "      <td>0 days 02:11:45</td>\n",
       "      <td>3 days 15:49:59</td>\n",
       "    </tr>\n",
       "  </tbody>\n",
       "</table>\n",
       "<p>3 rows × 31 columns</p>\n",
       "</div>"
      ],
      "text/plain": [
       "                      Start DateTime         End DateTime   \n",
       "ID                                                          \n",
       "dexcom_eur_01 0  2023-03-08 00:04:00  2023-03-21 15:29:00  \\\n",
       "dexcom_eur_02 0  2023-03-08 00:01:00  2023-03-21 15:31:00   \n",
       "dexcom_eur_03 0  2023-03-08 00:01:00  2023-03-21 15:40:00   \n",
       "\n",
       "                 Data Sufficiency (%)              Days  Average glucose   \n",
       "ID                                                                         \n",
       "dexcom_eur_01 0                  97.3  13 days 15:25:00         9.151752  \\\n",
       "dexcom_eur_02 0                  97.4  13 days 15:30:00         7.866179   \n",
       "dexcom_eur_03 0                  95.9  13 days 15:39:00         8.212228   \n",
       "\n",
       "                 eA1c (%)       AUC        SD     CV (%)      LBGI  ...   \n",
       "ID                                                                  ...   \n",
       "dexcom_eur_01 0  7.384750  8.291685  3.121628  34.109626  0.301074  ...  \\\n",
       "dexcom_eur_02 0  6.576213  7.104193  3.085039  39.219034  1.729170  ...   \n",
       "dexcom_eur_03 0  6.793854  7.369449  3.256385  39.652884  1.397236  ...   \n",
       "\n",
       "                 Number LV2 hypoglycemic events   \n",
       "ID                                                \n",
       "dexcom_eur_01 0                               0  \\\n",
       "dexcom_eur_02 0                               9   \n",
       "dexcom_eur_03 0                               7   \n",
       "\n",
       "                 Number prolonged hypoglycemic events   \n",
       "ID                                                      \n",
       "dexcom_eur_01 0                                     0  \\\n",
       "dexcom_eur_02 0                                     0   \n",
       "dexcom_eur_03 0                                     0   \n",
       "\n",
       "                 Avg. length of hypoglycemic events   \n",
       "ID                                                    \n",
       "dexcom_eur_01 0                     0 days 00:31:16  \\\n",
       "dexcom_eur_02 0                     0 days 01:00:58   \n",
       "dexcom_eur_03 0                     0 days 01:02:11   \n",
       "\n",
       "                 Total time spent in hypoglycemic events   \n",
       "ID                                                         \n",
       "dexcom_eur_01 0                          0 days 02:05:02  \\\n",
       "dexcom_eur_02 0                          1 days 02:25:06   \n",
       "dexcom_eur_03 0                          0 days 16:35:03   \n",
       "\n",
       "                 Total number hyperglycemic events   \n",
       "ID                                                   \n",
       "dexcom_eur_01 0                                 33  \\\n",
       "dexcom_eur_02 0                                 25   \n",
       "dexcom_eur_03 0                                 40   \n",
       "\n",
       "                 Number LV1 hyperglycemic events   \n",
       "ID                                                 \n",
       "dexcom_eur_01 0                               20  \\\n",
       "dexcom_eur_02 0                               19   \n",
       "dexcom_eur_03 0                               28   \n",
       "\n",
       "                 Number LV2 hyperglycemic events   \n",
       "ID                                                 \n",
       "dexcom_eur_01 0                               13  \\\n",
       "dexcom_eur_02 0                                6   \n",
       "dexcom_eur_03 0                               12   \n",
       "\n",
       "                 Number prolonged hyperglycemic events   \n",
       "ID                                                       \n",
       "dexcom_eur_01 0                                      5  \\\n",
       "dexcom_eur_02 0                                      1   \n",
       "dexcom_eur_03 0                                      3   \n",
       "\n",
       "                 Avg. length of hyperglycemic events   \n",
       "ID                                                     \n",
       "dexcom_eur_01 0                      0 days 03:30:37  \\\n",
       "dexcom_eur_02 0                      0 days 03:20:48   \n",
       "dexcom_eur_03 0                      0 days 02:11:45   \n",
       "\n",
       "                 Total time spent in hyperglycemic events  \n",
       "ID                                                         \n",
       "dexcom_eur_01 0                           4 days 19:50:13  \n",
       "dexcom_eur_02 0                           3 days 11:40:04  \n",
       "dexcom_eur_03 0                           3 days 15:49:59  \n",
       "\n",
       "[3 rows x 31 columns]"
      ]
     },
     "execution_count": 29,
     "metadata": {},
     "output_type": "execute_result"
    }
   ],
   "source": [
    "dexcom_data.groupby('ID').apply(lambda group: metrics.all_standard_metrics(group))"
   ]
  },
  {
   "cell_type": "code",
   "execution_count": 31,
   "metadata": {},
   "outputs": [],
   "source": [
    "def average_glc(df):\n",
    "    \"\"\"\n",
    "    Calculate the average glucose reading from the 'glc' column in the DataFrame.\n",
    "\n",
    "    Args:\n",
    "        df (pandas.DataFrame): The DataFrame containing a 'glc' column with glucose readings.\n",
    "\n",
    "    Returns:\n",
    "        float: The average glucose reading.\n",
    "\n",
    "    Note:\n",
    "        - The function uses the 'mean' method from pandas.DataFrame to calculate the average.\n",
    "        - It returns the average glucose reading as a float value.\n",
    "    \"\"\"\n",
    "    def run(df):\n",
    "        # Calculate the mean of the 'glc' column in the DataFrame\n",
    "        average = df['glc'].mean()\n",
    "        return average\n",
    "    \n",
    "    if 'ID' in df.columns:\n",
    "        results = df.groupby('ID').apply(lambda group: run(group))\n",
    "        return results\n",
    "    else:    \n",
    "        average = run(df)\n",
    "        return average"
   ]
  },
  {
   "cell_type": "code",
   "execution_count": 37,
   "metadata": {},
   "outputs": [],
   "source": [
    "def glycemic_variability(df):\n",
    "    \"\"\"\n",
    "    Calculate the glycemic variability metrics for glucose readings in the DataFrame.\n",
    "\n",
    "    Args:\n",
    "        df (pandas.DataFrame): The DataFrame containing a 'glc' column with glucose readings.\n",
    "\n",
    "    Returns:\n",
    "        dict: A dictionary containing the calculated glycemic variability metrics.\n",
    "\n",
    "    Note:\n",
    "        - The function uses the 'average_glc' function to calculate the average glucose reading.\n",
    "        - It then calculates the standard deviation (SD) of glucose readings using the 'std' method from pandas.Series.\n",
    "        - The coefficient of variation (CV) is calculated as (SD * 100 / average glucose).\n",
    "        - The calculated SD and CV values are returned as a dictionary with corresponding labels.\n",
    "    \"\"\"\n",
    "    def run(df):\n",
    "        # Calculate the average glucose reading using the 'average_glc' function\n",
    "        avg_glc = average_glc(df)\n",
    "\n",
    "        # Calculate the standard deviation (SD) of glucose readings\n",
    "        sd = df.glc.std()\n",
    "\n",
    "        # Calculate the coefficient of variation (CV) as (SD * 100 / average glucose)\n",
    "        cv = (sd * 100 / avg_glc)\n",
    "\n",
    "        # Create a dictionary with the calculated glycemic variability metrics\n",
    "        variability_metrics = {\n",
    "            'SD': sd,\n",
    "            'CV (%)': cv\n",
    "        }\n",
    "        #return variability_metrics\n",
    "        return sd, cv\n",
    "    if 'ID' in df.columns:\n",
    "        results = df.groupby('ID').apply(lambda group: run(group))\n",
    "        return results\n",
    "    else:    \n",
    "        results = run(df)\n",
    "        return results\n"
   ]
  },
  {
   "cell_type": "code",
   "execution_count": 49,
   "metadata": {},
   "outputs": [
    {
     "data": {
      "text/plain": [
       "ID\n",
       "dexcom_eur_01    {'SD': 3.2010326520415098, 'CV (%)': [34.97726...\n",
       "dexcom_eur_02    {'SD': 3.2010326520415098, 'CV (%)': [34.97726...\n",
       "dexcom_eur_03    {'SD': 3.2010326520415098, 'CV (%)': [34.97726...\n",
       "dtype: object"
      ]
     },
     "execution_count": 49,
     "metadata": {},
     "output_type": "execute_result"
    }
   ],
   "source": [
    "glycemic_variability(dexcom_data)"
   ]
  },
  {
   "cell_type": "code",
   "execution_count": 47,
   "metadata": {},
   "outputs": [
    {
     "ename": "ValueError",
     "evalue": "If using all scalar values, you must pass an index",
     "output_type": "error",
     "traceback": [
      "\u001b[0;31m---------------------------------------------------------------------------\u001b[0m",
      "\u001b[0;31mValueError\u001b[0m                                Traceback (most recent call last)",
      "Cell \u001b[0;32mIn[47], line 1\u001b[0m\n\u001b[0;32m----> 1\u001b[0m pd\u001b[39m.\u001b[39;49mDataFrame(glycemic_variability(libre1_transformed))\n",
      "File \u001b[0;32m~/miniconda3/envs/package_play/lib/python3.9/site-packages/pandas/core/frame.py:708\u001b[0m, in \u001b[0;36mDataFrame.__init__\u001b[0;34m(self, data, index, columns, dtype, copy)\u001b[0m\n\u001b[1;32m    702\u001b[0m     mgr \u001b[39m=\u001b[39m \u001b[39mself\u001b[39m\u001b[39m.\u001b[39m_init_mgr(\n\u001b[1;32m    703\u001b[0m         data, axes\u001b[39m=\u001b[39m{\u001b[39m\"\u001b[39m\u001b[39mindex\u001b[39m\u001b[39m\"\u001b[39m: index, \u001b[39m\"\u001b[39m\u001b[39mcolumns\u001b[39m\u001b[39m\"\u001b[39m: columns}, dtype\u001b[39m=\u001b[39mdtype, copy\u001b[39m=\u001b[39mcopy\n\u001b[1;32m    704\u001b[0m     )\n\u001b[1;32m    706\u001b[0m \u001b[39melif\u001b[39;00m \u001b[39misinstance\u001b[39m(data, \u001b[39mdict\u001b[39m):\n\u001b[1;32m    707\u001b[0m     \u001b[39m# GH#38939 de facto copy defaults to False only in non-dict cases\u001b[39;00m\n\u001b[0;32m--> 708\u001b[0m     mgr \u001b[39m=\u001b[39m dict_to_mgr(data, index, columns, dtype\u001b[39m=\u001b[39;49mdtype, copy\u001b[39m=\u001b[39;49mcopy, typ\u001b[39m=\u001b[39;49mmanager)\n\u001b[1;32m    709\u001b[0m \u001b[39melif\u001b[39;00m \u001b[39misinstance\u001b[39m(data, ma\u001b[39m.\u001b[39mMaskedArray):\n\u001b[1;32m    710\u001b[0m     \u001b[39mfrom\u001b[39;00m \u001b[39mnumpy\u001b[39;00m\u001b[39m.\u001b[39;00m\u001b[39mma\u001b[39;00m \u001b[39mimport\u001b[39;00m mrecords\n",
      "File \u001b[0;32m~/miniconda3/envs/package_play/lib/python3.9/site-packages/pandas/core/internals/construction.py:481\u001b[0m, in \u001b[0;36mdict_to_mgr\u001b[0;34m(data, index, columns, dtype, typ, copy)\u001b[0m\n\u001b[1;32m    477\u001b[0m     \u001b[39melse\u001b[39;00m:\n\u001b[1;32m    478\u001b[0m         \u001b[39m# dtype check to exclude e.g. range objects, scalars\u001b[39;00m\n\u001b[1;32m    479\u001b[0m         arrays \u001b[39m=\u001b[39m [x\u001b[39m.\u001b[39mcopy() \u001b[39mif\u001b[39;00m \u001b[39mhasattr\u001b[39m(x, \u001b[39m\"\u001b[39m\u001b[39mdtype\u001b[39m\u001b[39m\"\u001b[39m) \u001b[39melse\u001b[39;00m x \u001b[39mfor\u001b[39;00m x \u001b[39min\u001b[39;00m arrays]\n\u001b[0;32m--> 481\u001b[0m \u001b[39mreturn\u001b[39;00m arrays_to_mgr(arrays, columns, index, dtype\u001b[39m=\u001b[39;49mdtype, typ\u001b[39m=\u001b[39;49mtyp, consolidate\u001b[39m=\u001b[39;49mcopy)\n",
      "File \u001b[0;32m~/miniconda3/envs/package_play/lib/python3.9/site-packages/pandas/core/internals/construction.py:115\u001b[0m, in \u001b[0;36marrays_to_mgr\u001b[0;34m(arrays, columns, index, dtype, verify_integrity, typ, consolidate)\u001b[0m\n\u001b[1;32m    112\u001b[0m \u001b[39mif\u001b[39;00m verify_integrity:\n\u001b[1;32m    113\u001b[0m     \u001b[39m# figure out the index, if necessary\u001b[39;00m\n\u001b[1;32m    114\u001b[0m     \u001b[39mif\u001b[39;00m index \u001b[39mis\u001b[39;00m \u001b[39mNone\u001b[39;00m:\n\u001b[0;32m--> 115\u001b[0m         index \u001b[39m=\u001b[39m _extract_index(arrays)\n\u001b[1;32m    116\u001b[0m     \u001b[39melse\u001b[39;00m:\n\u001b[1;32m    117\u001b[0m         index \u001b[39m=\u001b[39m ensure_index(index)\n",
      "File \u001b[0;32m~/miniconda3/envs/package_play/lib/python3.9/site-packages/pandas/core/internals/construction.py:645\u001b[0m, in \u001b[0;36m_extract_index\u001b[0;34m(data)\u001b[0m\n\u001b[1;32m    642\u001b[0m         \u001b[39mraise\u001b[39;00m \u001b[39mValueError\u001b[39;00m(\u001b[39m\"\u001b[39m\u001b[39mPer-column arrays must each be 1-dimensional\u001b[39m\u001b[39m\"\u001b[39m)\n\u001b[1;32m    644\u001b[0m \u001b[39mif\u001b[39;00m \u001b[39mnot\u001b[39;00m indexes \u001b[39mand\u001b[39;00m \u001b[39mnot\u001b[39;00m raw_lengths:\n\u001b[0;32m--> 645\u001b[0m     \u001b[39mraise\u001b[39;00m \u001b[39mValueError\u001b[39;00m(\u001b[39m\"\u001b[39m\u001b[39mIf using all scalar values, you must pass an index\u001b[39m\u001b[39m\"\u001b[39m)\n\u001b[1;32m    647\u001b[0m \u001b[39mif\u001b[39;00m have_series:\n\u001b[1;32m    648\u001b[0m     index \u001b[39m=\u001b[39m union_indexes(indexes)\n",
      "\u001b[0;31mValueError\u001b[0m: If using all scalar values, you must pass an index"
     ]
    }
   ],
   "source": [
    "pd.DataFrame(glycemic_variability(libre1_transformed))"
   ]
  },
  {
   "cell_type": "code",
   "execution_count": null,
   "metadata": {},
   "outputs": [],
   "source": []
  }
 ],
 "metadata": {
  "kernelspec": {
   "display_name": "package_play",
   "language": "python",
   "name": "python3"
  },
  "language_info": {
   "codemirror_mode": {
    "name": "ipython",
    "version": 3
   },
   "file_extension": ".py",
   "mimetype": "text/x-python",
   "name": "python",
   "nbconvert_exporter": "python",
   "pygments_lexer": "ipython3",
   "version": "3.9.16"
  },
  "orig_nbformat": 4,
  "vscode": {
   "interpreter": {
    "hash": "c10053011fb043c31a3c6bdb0be69e4ab8cd05542c0cbe3000462b39ae896f3b"
   }
  }
 },
 "nbformat": 4,
 "nbformat_minor": 2
}
